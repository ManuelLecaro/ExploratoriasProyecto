{
 "cells": [
  {
   "cell_type": "code",
   "execution_count": 41,
   "metadata": {},
   "outputs": [],
   "source": [
    "import pandas as pd\n",
    "from sklearn.preprocessing import StandardScaler\n",
    "from sklearn.decomposition import PCA\n",
    "from sklearn.cluster import KMeans\n",
    "import matplotlib.pyplot as plt"
   ]
  },
  {
   "cell_type": "code",
   "execution_count": 31,
   "metadata": {},
   "outputs": [
    {
     "data": {
      "text/html": [
       "<div>\n",
       "<style scoped>\n",
       "    .dataframe tbody tr th:only-of-type {\n",
       "        vertical-align: middle;\n",
       "    }\n",
       "\n",
       "    .dataframe tbody tr th {\n",
       "        vertical-align: top;\n",
       "    }\n",
       "\n",
       "    .dataframe thead th {\n",
       "        text-align: right;\n",
       "    }\n",
       "</style>\n",
       "<table border=\"1\" class=\"dataframe\">\n",
       "  <thead>\n",
       "    <tr style=\"text-align: right;\">\n",
       "      <th></th>\n",
       "      <th>owner_id</th>\n",
       "      <th>title</th>\n",
       "      <th>location</th>\n",
       "      <th>price.guests</th>\n",
       "      <th>total_price.USD</th>\n",
       "      <th>cleaning_fee</th>\n",
       "      <th>service_fee</th>\n",
       "      <th>only_price</th>\n",
       "      <th>reviews</th>\n",
       "      <th>superhost</th>\n",
       "      <th>...</th>\n",
       "      <th>beds</th>\n",
       "      <th>bathrooms</th>\n",
       "      <th>date</th>\n",
       "      <th>datetime</th>\n",
       "      <th>accuracy</th>\n",
       "      <th>communication</th>\n",
       "      <th>cleanliness</th>\n",
       "      <th>locationq</th>\n",
       "      <th>checkin</th>\n",
       "      <th>url</th>\n",
       "    </tr>\n",
       "  </thead>\n",
       "  <tbody>\n",
       "    <tr>\n",
       "      <th>0</th>\n",
       "      <td>31008582</td>\n",
       "      <td>FINCA AGROECOLÓGICA HAPPY FRUIT</td>\n",
       "      <td>Arenillas</td>\n",
       "      <td>0</td>\n",
       "      <td>0</td>\n",
       "      <td>0</td>\n",
       "      <td>0</td>\n",
       "      <td>15</td>\n",
       "      <td>6</td>\n",
       "      <td>0</td>\n",
       "      <td>...</td>\n",
       "      <td>3</td>\n",
       "      <td>3</td>\n",
       "      <td>2019-07-15</td>\n",
       "      <td>2019-07-15 18:29:10</td>\n",
       "      <td>5</td>\n",
       "      <td>5.0</td>\n",
       "      <td>5.0</td>\n",
       "      <td>5.0</td>\n",
       "      <td>5.0</td>\n",
       "      <td>https://www.airbnb.com/rooms/31008582?location...</td>\n",
       "    </tr>\n",
       "    <tr>\n",
       "      <th>1</th>\n",
       "      <td>33835983</td>\n",
       "      <td>Habitacion en Departamento Compartido</td>\n",
       "      <td>Arenillas</td>\n",
       "      <td>0</td>\n",
       "      <td>0</td>\n",
       "      <td>0</td>\n",
       "      <td>0</td>\n",
       "      <td>11</td>\n",
       "      <td>0</td>\n",
       "      <td>0</td>\n",
       "      <td>...</td>\n",
       "      <td>2</td>\n",
       "      <td>0</td>\n",
       "      <td>2019-07-15</td>\n",
       "      <td>2019-07-15 18:29:21</td>\n",
       "      <td>NaN</td>\n",
       "      <td>0.0</td>\n",
       "      <td>0.0</td>\n",
       "      <td>0.0</td>\n",
       "      <td>0.0</td>\n",
       "      <td>https://www.airbnb.com/rooms/33835983?location...</td>\n",
       "    </tr>\n",
       "    <tr>\n",
       "      <th>2</th>\n",
       "      <td>29500212</td>\n",
       "      <td>1 Cama: Casa con Piscina y Campo cerca de ciudad.</td>\n",
       "      <td>Santa Rosa</td>\n",
       "      <td>0</td>\n",
       "      <td>0</td>\n",
       "      <td>0</td>\n",
       "      <td>0</td>\n",
       "      <td>15</td>\n",
       "      <td>0</td>\n",
       "      <td>0</td>\n",
       "      <td>...</td>\n",
       "      <td>1</td>\n",
       "      <td>1</td>\n",
       "      <td>2019-07-15</td>\n",
       "      <td>2019-07-15 18:29:35</td>\n",
       "      <td>NaN</td>\n",
       "      <td>0.0</td>\n",
       "      <td>0.0</td>\n",
       "      <td>0.0</td>\n",
       "      <td>0.0</td>\n",
       "      <td>https://www.airbnb.com/rooms/29500212?location...</td>\n",
       "    </tr>\n",
       "    <tr>\n",
       "      <th>3</th>\n",
       "      <td>30006552</td>\n",
       "      <td>2 Camas: Casa con Piscina y Campo cerca de ciu...</td>\n",
       "      <td>Santa Rosa</td>\n",
       "      <td>0</td>\n",
       "      <td>0</td>\n",
       "      <td>0</td>\n",
       "      <td>0</td>\n",
       "      <td>14</td>\n",
       "      <td>1</td>\n",
       "      <td>0</td>\n",
       "      <td>...</td>\n",
       "      <td>2</td>\n",
       "      <td>2</td>\n",
       "      <td>2019-07-15</td>\n",
       "      <td>2019-07-15 18:29:51</td>\n",
       "      <td>NaN</td>\n",
       "      <td>0.0</td>\n",
       "      <td>0.0</td>\n",
       "      <td>0.0</td>\n",
       "      <td>0.0</td>\n",
       "      <td>https://www.airbnb.com/rooms/30006552?location...</td>\n",
       "    </tr>\n",
       "    <tr>\n",
       "      <th>4</th>\n",
       "      <td>8192248</td>\n",
       "      <td>Casa de campo en un bosque de frutas</td>\n",
       "      <td>Torata</td>\n",
       "      <td>0</td>\n",
       "      <td>0</td>\n",
       "      <td>0</td>\n",
       "      <td>0</td>\n",
       "      <td>17</td>\n",
       "      <td>2</td>\n",
       "      <td>0</td>\n",
       "      <td>...</td>\n",
       "      <td>6</td>\n",
       "      <td>3</td>\n",
       "      <td>2019-07-15</td>\n",
       "      <td>2019-07-15 18:30:08</td>\n",
       "      <td>NaN</td>\n",
       "      <td>0.0</td>\n",
       "      <td>0.0</td>\n",
       "      <td>0.0</td>\n",
       "      <td>0.0</td>\n",
       "      <td>https://www.airbnb.com/rooms/8192248?location=...</td>\n",
       "    </tr>\n",
       "  </tbody>\n",
       "</table>\n",
       "<p>5 rows × 22 columns</p>\n",
       "</div>"
      ],
      "text/plain": [
       "   owner_id                                              title    location  \\\n",
       "0  31008582                    FINCA AGROECOLÓGICA HAPPY FRUIT   Arenillas   \n",
       "1  33835983              Habitacion en Departamento Compartido   Arenillas   \n",
       "2  29500212  1 Cama: Casa con Piscina y Campo cerca de ciudad.  Santa Rosa   \n",
       "3  30006552  2 Camas: Casa con Piscina y Campo cerca de ciu...  Santa Rosa   \n",
       "4   8192248               Casa de campo en un bosque de frutas      Torata   \n",
       "\n",
       "  price.guests  total_price.USD  cleaning_fee  service_fee  only_price  \\\n",
       "0            0                0             0            0          15   \n",
       "1            0                0             0            0          11   \n",
       "2            0                0             0            0          15   \n",
       "3            0                0             0            0          14   \n",
       "4            0                0             0            0          17   \n",
       "\n",
       "   reviews superhost  ...  beds  bathrooms        date             datetime  \\\n",
       "0        6         0  ...     3          3  2019-07-15  2019-07-15 18:29:10   \n",
       "1        0         0  ...     2          0  2019-07-15  2019-07-15 18:29:21   \n",
       "2        0         0  ...     1          1  2019-07-15  2019-07-15 18:29:35   \n",
       "3        1         0  ...     2          2  2019-07-15  2019-07-15 18:29:51   \n",
       "4        2         0  ...     6          3  2019-07-15  2019-07-15 18:30:08   \n",
       "\n",
       "  accuracy communication cleanliness  locationq  checkin  \\\n",
       "0        5           5.0         5.0        5.0      5.0   \n",
       "1      NaN           0.0         0.0        0.0      0.0   \n",
       "2      NaN           0.0         0.0        0.0      0.0   \n",
       "3      NaN           0.0         0.0        0.0      0.0   \n",
       "4      NaN           0.0         0.0        0.0      0.0   \n",
       "\n",
       "                                                 url  \n",
       "0  https://www.airbnb.com/rooms/31008582?location...  \n",
       "1  https://www.airbnb.com/rooms/33835983?location...  \n",
       "2  https://www.airbnb.com/rooms/29500212?location...  \n",
       "3  https://www.airbnb.com/rooms/30006552?location...  \n",
       "4  https://www.airbnb.com/rooms/8192248?location=...  \n",
       "\n",
       "[5 rows x 22 columns]"
      ]
     },
     "execution_count": 31,
     "metadata": {},
     "output_type": "execute_result"
    }
   ],
   "source": [
    "df = pd.read_csv(\"datasetDepurado.csv\")\n",
    "df.head()"
   ]
  },
  {
   "cell_type": "code",
   "execution_count": 33,
   "metadata": {},
   "outputs": [],
   "source": [
    "# Unión de datasets para obtener densidad poblacional de la ciudad a la que el alojamineto pertenece\n",
    "\n",
    "# Carga de los datasets auxiliares\n",
    "provCantonesDf = pd.read_csv(\"cantonesPorProvincia.csv\", encoding=\"utf-8\")\n",
    "datosProvinciaDf = pd.read_csv(\"poblacionPorProvincia.csv\", encoding=\"utf-8\")\n",
    "\n",
    "# Pre procesamiento\n",
    "provCantonesDf[\"Provincia\"] = provCantonesDf[\"Provincia\"].str.title() # Convirtiendo texto de mayúsculas a formato título (primera letra mayúscula)\n",
    "provCantonesDf[\"Cantón\"] = provCantonesDf[\"Cantón\"].str.title()\n",
    "provCantonesDf[\"Región\"] = provCantonesDf[\"Región\"].str.title()\n",
    "datosProvinciaDf[\"densidad\"] = datosProvinciaDf[\"población\"] / datosProvinciaDf[\"superficie\"] # Agregando columna de densidad poblacional de la provincia\n",
    "\n",
    "# Unión\n",
    "alojamientosRegionesDf = df.merge(provCantonesDf, left_on=\"location\", right_on=\"Cantón\")\n",
    "alojamientosPoblaciónDf = alojamientosRegionesDf.merge(datosProvinciaDf, left_on=\"Provincia\", right_on=\"provincia\")\n",
    "df =  alojamientosPoblaciónDf"
   ]
  },
  {
   "cell_type": "code",
   "execution_count": 34,
   "metadata": {},
   "outputs": [
    {
     "data": {
      "text/plain": [
       "array(['owner_id', 'title', 'location', 'price.guests', 'total_price.USD',\n",
       "       'cleaning_fee', 'service_fee', 'only_price', 'reviews',\n",
       "       'superhost', 'guests', 'bedrooms', 'beds', 'bathrooms', 'date',\n",
       "       'datetime', 'accuracy', 'communication', 'cleanliness',\n",
       "       'locationq', 'checkin', 'url', 'Región', 'Provincia', 'Cantón',\n",
       "       'provincia', 'población', 'superficie', 'hogaresInternet',\n",
       "       'densidad'], dtype=object)"
      ]
     },
     "execution_count": 34,
     "metadata": {},
     "output_type": "execute_result"
    }
   ],
   "source": [
    "df.columns.values"
   ]
  },
  {
   "cell_type": "code",
   "execution_count": 38,
   "metadata": {},
   "outputs": [],
   "source": [
    "# Identificando las variables numéricas\n",
    "features = ['only_price','reviews', 'communication', 'cleanliness',\n",
    "       'locationq', 'checkin', 'densidad']\n",
    "\n",
    "# Aislando las variables\n",
    "x = df.loc[:, features]\n",
    "# Estandarizando las variables\n",
    "x = StandardScaler().fit_transform(x)"
   ]
  },
  {
   "cell_type": "code",
   "execution_count": 39,
   "metadata": {},
   "outputs": [
    {
     "data": {
      "text/html": [
       "<div>\n",
       "<style scoped>\n",
       "    .dataframe tbody tr th:only-of-type {\n",
       "        vertical-align: middle;\n",
       "    }\n",
       "\n",
       "    .dataframe tbody tr th {\n",
       "        vertical-align: top;\n",
       "    }\n",
       "\n",
       "    .dataframe thead th {\n",
       "        text-align: right;\n",
       "    }\n",
       "</style>\n",
       "<table border=\"1\" class=\"dataframe\">\n",
       "  <thead>\n",
       "    <tr style=\"text-align: right;\">\n",
       "      <th></th>\n",
       "      <th>PC1</th>\n",
       "      <th>PC2</th>\n",
       "    </tr>\n",
       "  </thead>\n",
       "  <tbody>\n",
       "    <tr>\n",
       "      <th>0</th>\n",
       "      <td>2.199892</td>\n",
       "      <td>-0.874067</td>\n",
       "    </tr>\n",
       "    <tr>\n",
       "      <th>1</th>\n",
       "      <td>-1.775116</td>\n",
       "      <td>-0.209163</td>\n",
       "    </tr>\n",
       "    <tr>\n",
       "      <th>2</th>\n",
       "      <td>-1.778255</td>\n",
       "      <td>0.670065</td>\n",
       "    </tr>\n",
       "    <tr>\n",
       "      <th>3</th>\n",
       "      <td>2.199892</td>\n",
       "      <td>-0.874067</td>\n",
       "    </tr>\n",
       "    <tr>\n",
       "      <th>4</th>\n",
       "      <td>-1.775116</td>\n",
       "      <td>-0.209163</td>\n",
       "    </tr>\n",
       "  </tbody>\n",
       "</table>\n",
       "</div>"
      ],
      "text/plain": [
       "        PC1       PC2\n",
       "0  2.199892 -0.874067\n",
       "1 -1.775116 -0.209163\n",
       "2 -1.778255  0.670065\n",
       "3  2.199892 -0.874067\n",
       "4 -1.775116 -0.209163"
      ]
     },
     "execution_count": 39,
     "metadata": {},
     "output_type": "execute_result"
    }
   ],
   "source": [
    "pca = PCA(n_components=2)\n",
    "principalComponents = pca.fit_transform(x)\n",
    "principalDf = pd.DataFrame(data = principalComponents, columns = ['PC1', 'PC2'])\n",
    "principalDf.head()"
   ]
  },
  {
   "cell_type": "code",
   "execution_count": 40,
   "metadata": {},
   "outputs": [
    {
     "data": {
      "image/png": "[encoded data removed]",
      "text/plain": [
       "<Figure size 432x288 with 1 Axes>"
      ]
     },
     "metadata": {
      "needs_background": "light"
     },
     "output_type": "display_data"
    }
   ],
   "source": [
    "plt.scatter(principalDf['PC1'], principalDf['PC2'])\n",
    "plt.title('Dispersión de los alojamientos')\n",
    "plt.xlabel('PC1')\n",
    "plt.ylabel('PC2')\n",
    "plt.show()"
   ]
  },
  {
   "cell_type": "code",
   "execution_count": 46,
   "metadata": {},
   "outputs": [
    {
     "name": "stdout",
     "output_type": "stream",
     "text": [
      "[[-1.77756051  0.08764458]\n",
      " [ 2.40005861 -0.11833753]]\n"
     ]
    }
   ],
   "source": [
    "#Clustering\n",
    "\n",
    "kmeans = KMeans(n_clusters=2).fit(principalDf)\n",
    "centroids = kmeans.cluster_centers_\n",
    "print(centroids)"
   ]
  },
  {
   "cell_type": "code",
   "execution_count": 47,
   "metadata": {},
   "outputs": [
    {
     "data": {
      "text/plain": [
       "<matplotlib.collections.PathCollection at 0x7f5012cf7128>"
      ]
     },
     "execution_count": 47,
     "metadata": {},
     "output_type": "execute_result"
    },
    {
     "data": {
      "image/png": "[encoded data removed]",
      "text/plain": [
       "<Figure size 432x288 with 1 Axes>"
      ]
     },
     "metadata": {
      "needs_background": "light"
     },
     "output_type": "display_data"
    }
   ],
   "source": [
    "\n",
    "plt.scatter(principalDf['PC1'], principalDf['PC2'], c= kmeans.labels_.astype(float), s=50, alpha=0.5)\n",
    "plt.scatter(centroids[:, 0], centroids[:, 1], c='red', s=50)"
   ]
  },
  {
   "cell_type": "code",
   "execution_count": 49,
   "metadata": {},
   "outputs": [
    {
     "data": {
      "image/png": "[encoded data removed]",
      "text/plain": [
       "<Figure size 432x288 with 1 Axes>"
      ]
     },
     "metadata": {
      "needs_background": "light"
     },
     "output_type": "display_data"
    }
   ],
   "source": [
    "# Metodo del codo\n",
    "distortions = []\n",
    "for i in range(1, 11):\n",
    "    km = KMeans(\n",
    "        n_clusters=i, init='random',\n",
    "        n_init=10, max_iter=300,\n",
    "        tol=1e-04, random_state=0\n",
    "    )\n",
    "    km.fit(principalDf)\n",
    "    distortions.append(km.inertia_)\n",
    "\n",
    "plt.plot(range(1, 11), distortions, marker='o')\n",
    "plt.xlabel('Número de clusters')\n",
    "plt.ylabel('Distorción')\n",
    "plt.show()"
   ]
  },
  {
   "cell_type": "code",
   "execution_count": null,
   "metadata": {},
   "outputs": [],
   "source": []
  }
 ],
 "metadata": {
  "kernelspec": {
   "display_name": "Python 3",
   "language": "python",
   "name": "python3"
  },
  "language_info": {
   "codemirror_mode": {
    "name": "ipython",
    "version": 3
   },
   "file_extension": ".py",
   "mimetype": "text/x-python",
   "name": "python",
   "nbconvert_exporter": "python",
   "pygments_lexer": "ipython3",
   "version": "3.6.8"
  }
 },
 "nbformat": 4,
 "nbformat_minor": 2
}
