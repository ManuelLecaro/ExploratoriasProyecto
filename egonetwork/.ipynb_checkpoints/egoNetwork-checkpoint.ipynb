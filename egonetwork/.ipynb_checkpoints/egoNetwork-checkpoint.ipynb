{
 "cells": [
  {
   "cell_type": "markdown",
   "metadata": {},
   "source": [
    "# Tweeepy Ego-Network\n",
    "### A 1-step distance network graph with weighted nodes and edges"
   ]
  },
  {
   "cell_type": "markdown",
   "metadata": {},
   "source": [
    "Imports necessary for networkx to work."
   ]
  },
  {
   "cell_type": "code",
   "execution_count": 2,
   "metadata": {},
   "outputs": [],
   "source": [
    "import networkx as nx\n",
    "import tweepy\n",
    "import numpy as np\n",
    "import random\n",
    "from IPython.display import Image\n",
    "import matplotlib.pyplot as plt"
   ]
  },
  {
   "cell_type": "markdown",
   "metadata": {},
   "source": [
    "Authentication process for Twitter account. "
   ]
  },
  {
   "cell_type": "code",
   "execution_count": null,
   "metadata": {},
   "outputs": [],
   "source": [
    "auth = tweepy.OAuthHandler(\"XXXX\", \"XXXX\")\n",
    "auth.set_access_token(\"XXXX\",\"XXXX\")\n",
    "api = tweepy.API(auth, wait_on_rate_limit=True)"
   ]
  },
  {
   "cell_type": "markdown",
   "metadata": {},
   "source": [
    "Set root user (center of the graph, initial node)"
   ]
  },
  {
   "cell_type": "code",
   "execution_count": null,
   "metadata": {},
   "outputs": [],
   "source": [
    "# root_user = api.me().screen_name if authenticated user is wanted as root\n",
    "root_user = 'airbnb_mx'\n",
    "u = api.get_user(root_user) # User api object"
   ]
  },
  {
   "cell_type": "markdown",
   "metadata": {},
   "source": [
    "Initialize the graph. Define the function to set weights of edges. Set weights for every friend of the root user and for their friends, only taking the ones that are also friends with the root user."
   ]
  },
  {
   "cell_type": "code",
   "execution_count": null,
   "metadata": {},
   "outputs": [],
   "source": [
    "graph = nx.Graph()\n",
    "\n",
    "# Add root_user to graph\n",
    "graph.add_node(root_user, label=root_user, weight=u.statuses_count)\n",
    "friends = api.friends(screen_name=root_user)\n",
    "\n",
    "# Edge weight based on influence of following node A(the one who follows the other) and followers of A and B\n",
    "def calculateEdgeWeight(follower_count_a, following_count_a, follower_count_b):\n",
    "    follower_following_ratio = follower_count_a / following_count_a\n",
    "    return follower_following_ratio * (follower_count_a - follower_count_b) / (follower_count_a + follower_count_b)\n",
    "\n",
    "# Asigning weights\n",
    "for f in friends:\n",
    "    print(\"\\nProcessing friends of \", f.screen_name)\n",
    "    graph.add_node(f.screen_name, label=f.screen_name, weight=f.statuses_count)\n",
    "    graph.add_edge(root_user, f.screen_name,\n",
    "                   weight=calculateEdgeWeight(u.followers_count, u.friends_count, f.followers_count))\n",
    "    if not f.protected:\n",
    "        following_of_f = api.friends(screen_name=f.screen_name)\n",
    "        for ff in following_of_f:\n",
    "            for friend in friends:\n",
    "                if friend.screen_name == ff.screen_name:\n",
    "                    print(ff.screen_name, end=\" | \")\n",
    "                    graph.add_node(ff.screen_name, label=ff.screen_name, weight=ff.statuses_count)\n",
    "                    graph.add_edge(f.screen_name, ff.screen_name, weight=calculateEdgeWeight(\n",
    "                        f.followers_count, f.friends_count, ff.followers_count))"
   ]
  },
  {
   "cell_type": "markdown",
   "metadata": {},
   "source": [
    "nx.read_gexf() can be used to read graphs outputed by networkx in an xml file. If the graph was already calculated it can be read uncommenting that line"
   ]
  },
  {
   "cell_type": "code",
   "execution_count": null,
   "metadata": {},
   "outputs": [],
   "source": [
    "# graph = nx.read_gexf('path_to_gexf_file') # Read the graph if there already exits one\n",
    "# design parameters\n",
    "pos = nx.circular_layout(graph)\n",
    "plt.figure(1,figsize=(10,10))"
   ]
  },
  {
   "cell_type": "markdown",
   "metadata": {},
   "source": [
    "To start drawing the graph, we need to iterate through all the weights and asign widths to unique weights so that each edge and node has its own width/size. "
   ]
  },
  {
   "cell_type": "code",
   "execution_count": null,
   "metadata": {},
   "outputs": [],
   "source": [
    "all_weights = []\n",
    "# Iterate through the graph nodes to gather all the weights\n",
    "for (node1,node2,data) in graph.edges(data=True):\n",
    "    all_weights.append(data['weight']) #we'll use this when determining edge thickness\n",
    "\n",
    "max_edge_weight = max(all_weights)\n",
    "# Get unique weights\n",
    "unique_weights = list(set(all_weights))\n",
    "\n",
    "# Plot the edges assigning specific edge widths to weights\n",
    "for weight in unique_weights:\n",
    "    # Form a filtered list with just the weight you want to draw\n",
    "    weighted_edges = [(node1,node2) for (node1,node2,edge_attr) in graph.edges(data=True) if edge_attr['weight']==weight]\n",
    "    width = weight/max_edge_weight\n",
    "    nx.draw_networkx_edges(graph,pos,edgelist=weighted_edges,width=width)\n",
    "\n",
    "all_node_weights=[]\n",
    "for node in graph.nodes(data=True):\n",
    "    all_node_weights.append(node[1]['weight'])\n",
    "\n",
    "node_sizes = []\n",
    "max_node_weight = max(all_node_weights)\n",
    "for node_weight in all_node_weights:\n",
    "    node_sizes.append(node_weight/max_node_weight*300)\n",
    "    \n",
    "nx.draw_networkx_nodes(graph, pos, node_size=node_sizes)\n",
    "nx.draw_networkx_labels(graph, pos)\n"
   ]
  },
  {
   "cell_type": "markdown",
   "metadata": {},
   "source": [
    "Ploting the graph and setting the name to save it."
   ]
  },
  {
   "cell_type": "code",
   "execution_count": null,
   "metadata": {},
   "outputs": [],
   "source": [
    "#Plot the graph\n",
    "plt.axis('off')\n",
    "plt.title(root_user + '1-step Ego-Network')\n",
    "plt.savefig(\"egoNetwork.png\") \n",
    "plt.show()"
   ]
  }
 ],
 "metadata": {
  "kernelspec": {
   "display_name": "Python 3",
   "language": "python",
   "name": "python3"
  },
  "language_info": {
   "codemirror_mode": {
    "name": "ipython",
    "version": 3
   },
   "file_extension": ".py",
   "mimetype": "text/x-python",
   "name": "python",
   "nbconvert_exporter": "python",
   "pygments_lexer": "ipython3",
   "version": "3.6.8"
  }
 },
 "nbformat": 4,
 "nbformat_minor": 2
}
